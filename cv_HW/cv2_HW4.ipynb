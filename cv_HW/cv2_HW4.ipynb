{
 "cells": [
  {
   "cell_type": "code",
   "execution_count": 2,
   "metadata": {},
   "outputs": [],
   "source": [
    "import cv2\n",
    "import numpy as np\n",
    "import time"
   ]
  },
  {
   "cell_type": "code",
   "execution_count": 3,
   "metadata": {},
   "outputs": [],
   "source": [
    "img = cv2.imread('lena.png')"
   ]
  },
  {
   "cell_type": "code",
   "execution_count": 5,
   "metadata": {},
   "outputs": [],
   "source": [
    "img_hflip = img[:, ::-1, :]\n",
    "img_vflip = img[::-1, :, :]\n",
    "img_hvflip = img[::-1, ::-1, :]\n",
    "\n",
    "hflip = np.hstack((img, img_hflip))\n",
    "vflip = np.hstack((img_vflip, img_hvflip))\n",
    "img_flip = np.vstack((hflip, vflip))"
   ]
  },
  {
   "cell_type": "code",
   "execution_count": 6,
   "metadata": {},
   "outputs": [],
   "source": [
    "while(1):\n",
    "    cv2.imshow('filp', img_flip)\n",
    "    \n",
    "    if cv2.waitKey(1) & 0xFF == ord('q'):\n",
    "        break\n",
    "        \n",
    "cv2.destroyAllWindows()"
   ]
  },
  {
   "cell_type": "code",
   "execution_count": 21,
   "metadata": {},
   "outputs": [
    {
     "name": "stdout",
     "output_type": "stream",
     "text": [
      "time of nearest: 0.014131546020507812\n",
      "time of cubic: 0.008490562438964844\n"
     ]
    }
   ],
   "source": [
    "new_size = (int(img.shape[0]*1.5), int(img.shape[1]*1.5))\n",
    "\n",
    "start_time = time.time()\n",
    "img_inter_near = cv2.resize(img, new_size, interpolation=cv2.INTER_AREA)\n",
    "print(\"time of nearest:\", time.time() - start_time)\n",
    "\n",
    "start_time = time.time()\n",
    "img_cubic = cv2.resize(img, new_size, interpolation=cv2.INTER_CUBIC)\n",
    "print(\"time of cubic:\", time.time() - start_time)\n",
    "\n",
    "img_con_all = np.hstack((img_inter_near, img_cubic))\n",
    "\n",
    "while(1):\n",
    "    cv2.imshow('resize', img_con_all)\n",
    "    \n",
    "    if cv2.waitKey(1) & 0xFF == ord('q'):\n",
    "        break\n",
    "        \n",
    "cv2.destroyAllWindows()"
   ]
  },
  {
   "cell_type": "code",
   "execution_count": 23,
   "metadata": {},
   "outputs": [],
   "source": [
    "M = np.float32([[1, 0, 50], [0, 1, 100]])\n",
    "shift = cv2.warpAffine(img, M, (img.shape[1], img.shape[0]))\n",
    "\n",
    "img_shift = np.hstack((img, shift))\n",
    "\n",
    "while(1):\n",
    "    cv2.imshow('shift', img_shift)\n",
    "    \n",
    "    if cv2.waitKey(1) & 0xFF == ord('q'):\n",
    "        break\n",
    "        \n",
    "cv2.destroyAllWindows()"
   ]
  },
  {
   "cell_type": "code",
   "execution_count": null,
   "metadata": {},
   "outputs": [],
   "source": []
  }
 ],
 "metadata": {
  "kernelspec": {
   "display_name": "Python 3",
   "language": "python",
   "name": "python3"
  },
  "language_info": {
   "codemirror_mode": {
    "name": "ipython",
    "version": 3
   },
   "file_extension": ".py",
   "mimetype": "text/x-python",
   "name": "python",
   "nbconvert_exporter": "python",
   "pygments_lexer": "ipython3",
   "version": "3.8.5"
  }
 },
 "nbformat": 4,
 "nbformat_minor": 4
}
